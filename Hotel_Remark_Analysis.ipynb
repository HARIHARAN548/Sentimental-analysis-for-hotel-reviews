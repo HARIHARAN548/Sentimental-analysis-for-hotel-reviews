{
 "cells": [
  {
   "cell_type": "code",
   "execution_count": 2,
   "metadata": {},
   "outputs": [],
   "source": [
    "import re\n",
    "import pandas as pd\n",
    "import spacy\n",
    "from vaderSentiment.vaderSentiment import SentimentIntensityAnalyzer"
   ]
  },
  {
   "cell_type": "code",
   "execution_count": 3,
   "metadata": {},
   "outputs": [
    {
     "name": "stdout",
     "output_type": "stream",
     "text": [
      "Requirement already satisfied: vaderSentiment in c:\\users\\d.s.hari\\anaconda3\\lib\\site-packages (3.2.1)\n",
      "Note: you may need to restart the kernel to use updated packages.\n"
     ]
    }
   ],
   "source": [
    "pip install vaderSentiment"
   ]
  },
  {
   "cell_type": "code",
   "execution_count": 4,
   "metadata": {},
   "outputs": [
    {
     "name": "stdout",
     "output_type": "stream",
     "text": [
      "Requirement already up-to-date: spacy in c:\\users\\d.s.hari\\anaconda3\\lib\\site-packages (2.3.2)\n",
      "Requirement already satisfied, skipping upgrade: srsly<1.1.0,>=1.0.2 in c:\\users\\d.s.hari\\anaconda3\\lib\\site-packages (from spacy) (1.0.2)\n",
      "Requirement already satisfied, skipping upgrade: wasabi<1.1.0,>=0.4.0 in c:\\users\\d.s.hari\\anaconda3\\lib\\site-packages (from spacy) (0.6.0)\n",
      "Requirement already satisfied, skipping upgrade: murmurhash<1.1.0,>=0.28.0 in c:\\users\\d.s.hari\\anaconda3\\lib\\site-packages (from spacy) (1.0.2)\n",
      "Requirement already satisfied, skipping upgrade: thinc==7.4.1 in c:\\users\\d.s.hari\\anaconda3\\lib\\site-packages (from spacy) (7.4.1)\n",
      "Requirement already satisfied, skipping upgrade: cymem<2.1.0,>=2.0.2 in c:\\users\\d.s.hari\\anaconda3\\lib\\site-packages (from spacy) (2.0.3)\n",
      "Requirement already satisfied, skipping upgrade: catalogue<1.1.0,>=0.0.7 in c:\\users\\d.s.hari\\anaconda3\\lib\\site-packages (from spacy) (1.0.0)\n",
      "Requirement already satisfied, skipping upgrade: tqdm<5.0.0,>=4.38.0 in c:\\users\\d.s.hari\\anaconda3\\lib\\site-packages (from spacy) (4.48.2)\n",
      "Requirement already satisfied, skipping upgrade: setuptools in c:\\users\\d.s.hari\\anaconda3\\lib\\site-packages (from spacy) (41.0.1)\n",
      "Requirement already satisfied, skipping upgrade: plac<1.2.0,>=0.9.6 in c:\\users\\d.s.hari\\anaconda3\\lib\\site-packages (from spacy) (1.1.3)\n",
      "Requirement already satisfied, skipping upgrade: blis<0.5.0,>=0.4.0 in c:\\users\\d.s.hari\\anaconda3\\lib\\site-packages (from spacy) (0.4.1)\n",
      "Requirement already satisfied, skipping upgrade: requests<3.0.0,>=2.13.0 in c:\\users\\d.s.hari\\anaconda3\\lib\\site-packages (from spacy) (2.22.0)\n",
      "Requirement already satisfied, skipping upgrade: preshed<3.1.0,>=3.0.2 in c:\\users\\d.s.hari\\anaconda3\\lib\\site-packages (from spacy) (3.0.2)\n",
      "Requirement already satisfied, skipping upgrade: numpy>=1.15.0 in c:\\users\\d.s.hari\\anaconda3\\lib\\site-packages (from spacy) (1.16.4)\n",
      "Requirement already satisfied, skipping upgrade: importlib-metadata>=0.20; python_version < \"3.8\" in c:\\users\\d.s.hari\\anaconda3\\lib\\site-packages (from catalogue<1.1.0,>=0.0.7->spacy) (1.5.0)\n",
      "Requirement already satisfied, skipping upgrade: certifi>=2017.4.17 in c:\\users\\d.s.hari\\anaconda3\\lib\\site-packages (from requests<3.0.0,>=2.13.0->spacy) (2019.6.16)\n",
      "Requirement already satisfied, skipping upgrade: urllib3!=1.25.0,!=1.25.1,<1.26,>=1.21.1 in c:\\users\\d.s.hari\\anaconda3\\lib\\site-packages (from requests<3.0.0,>=2.13.0->spacy) (1.24.2)\n",
      "Requirement already satisfied, skipping upgrade: idna<2.9,>=2.5 in c:\\users\\d.s.hari\\anaconda3\\lib\\site-packages (from requests<3.0.0,>=2.13.0->spacy) (2.8)\n",
      "Requirement already satisfied, skipping upgrade: chardet<3.1.0,>=3.0.2 in c:\\users\\d.s.hari\\anaconda3\\lib\\site-packages (from requests<3.0.0,>=2.13.0->spacy) (3.0.4)\n",
      "Requirement already satisfied, skipping upgrade: zipp>=0.5 in c:\\users\\d.s.hari\\anaconda3\\lib\\site-packages (from importlib-metadata>=0.20; python_version < \"3.8\"->catalogue<1.1.0,>=0.0.7->spacy) (0.5.1)\n",
      "Note: you may need to restart the kernel to use updated packages.\n"
     ]
    }
   ],
   "source": [
    "pip install -U spacy"
   ]
  },
  {
   "cell_type": "code",
   "execution_count": 5,
   "metadata": {},
   "outputs": [],
   "source": [
    "pd.set_option('display.max_colwidth', 300)"
   ]
  },
  {
   "cell_type": "code",
   "execution_count": 6,
   "metadata": {},
   "outputs": [],
   "source": [
    "# Load Hotel Remarks Data\n",
    "reviews = pd.read_excel(r'C:\\Users\\D.S.Hari\\Documents\\TripAdvisor Reviews.xlsx')"
   ]
  },
  {
   "cell_type": "code",
   "execution_count": 7,
   "metadata": {},
   "outputs": [
    {
     "data": {
      "text/html": [
       "<div>\n",
       "<style scoped>\n",
       "    .dataframe tbody tr th:only-of-type {\n",
       "        vertical-align: middle;\n",
       "    }\n",
       "\n",
       "    .dataframe tbody tr th {\n",
       "        vertical-align: top;\n",
       "    }\n",
       "\n",
       "    .dataframe thead th {\n",
       "        text-align: right;\n",
       "    }\n",
       "</style>\n",
       "<table border=\"1\" class=\"dataframe\">\n",
       "  <thead>\n",
       "    <tr style=\"text-align: right;\">\n",
       "      <th></th>\n",
       "      <th>ID</th>\n",
       "      <th>Hotelcode</th>\n",
       "      <th>review_content</th>\n",
       "      <th>id</th>\n",
       "    </tr>\n",
       "  </thead>\n",
       "  <tbody>\n",
       "    <tr>\n",
       "      <th>0</th>\n",
       "      <td>125456</td>\n",
       "      <td>79</td>\n",
       "      <td>Really good staff and caring look after everything u need and putri spa therapist relaxing and in front office krisna he really helpfull they make us cook in their kitchen aswell we really happy to stay there really recommend very cheap price aswell</td>\n",
       "      <td>7684053</td>\n",
       "    </tr>\n",
       "    <tr>\n",
       "      <th>1</th>\n",
       "      <td>26177</td>\n",
       "      <td>85</td>\n",
       "      <td>A simple and humble hotel, yet 1000 Miles Hotel was beyond our expectations for such a cheap price. The hotel was very clean, they provide us with a simple but nice breakfast every morning, the interior design was nice that we can take a nice picture around the 1st floor and the room, they also ...</td>\n",
       "      <td>8279441</td>\n",
       "    </tr>\n",
       "    <tr>\n",
       "      <th>2</th>\n",
       "      <td>124330</td>\n",
       "      <td>85</td>\n",
       "      <td>Great location - walking distance to most places and a couple of great restaurants nearby. We stayed in a private room for five nights (extended our stay). The room was really cosy, modern and clean. The TV is a nice touch and a good shower. The internet worked well throughout. We had a couple o...</td>\n",
       "      <td>7685864</td>\n",
       "    </tr>\n",
       "    <tr>\n",
       "      <th>3</th>\n",
       "      <td>134781</td>\n",
       "      <td>85</td>\n",
       "      <td>We spent 3 nights in this hotel. I had booked the Mini double room with windows. I didn't expect it's that small but we survived. Bed linen, towels and soap including the price and the bathroom was okay. Though water was not hot enough for me to call \"hot shower\". Our room was on the second floo...</td>\n",
       "      <td>7555219</td>\n",
       "    </tr>\n",
       "    <tr>\n",
       "      <th>4</th>\n",
       "      <td>246206</td>\n",
       "      <td>85</td>\n",
       "      <td>My expectations was quite high being this hostel is number one in Tripadvisor so to say we were disappointed is an understatement.The room was very small. Have a window that is not soundproof so it's like sleeping in the sidewalk. They claim to have cable tv but it only have local channels. I th...</td>\n",
       "      <td>7235691</td>\n",
       "    </tr>\n",
       "  </tbody>\n",
       "</table>\n",
       "</div>"
      ],
      "text/plain": [
       "       ID  Hotelcode  \\\n",
       "0  125456         79   \n",
       "1   26177         85   \n",
       "2  124330         85   \n",
       "3  134781         85   \n",
       "4  246206         85   \n",
       "\n",
       "                                                                                                                                                                                                                                                                                                review_content  \\\n",
       "0                                                    Really good staff and caring look after everything u need and putri spa therapist relaxing and in front office krisna he really helpfull they make us cook in their kitchen aswell we really happy to stay there really recommend very cheap price aswell   \n",
       "1  A simple and humble hotel, yet 1000 Miles Hotel was beyond our expectations for such a cheap price. The hotel was very clean, they provide us with a simple but nice breakfast every morning, the interior design was nice that we can take a nice picture around the 1st floor and the room, they also ...   \n",
       "2  Great location - walking distance to most places and a couple of great restaurants nearby. We stayed in a private room for five nights (extended our stay). The room was really cosy, modern and clean. The TV is a nice touch and a good shower. The internet worked well throughout. We had a couple o...   \n",
       "3  We spent 3 nights in this hotel. I had booked the Mini double room with windows. I didn't expect it's that small but we survived. Bed linen, towels and soap including the price and the bathroom was okay. Though water was not hot enough for me to call \"hot shower\". Our room was on the second floo...   \n",
       "4  My expectations was quite high being this hostel is number one in Tripadvisor so to say we were disappointed is an understatement.The room was very small. Have a window that is not soundproof so it's like sleeping in the sidewalk. They claim to have cable tv but it only have local channels. I th...   \n",
       "\n",
       "        id  \n",
       "0  7684053  \n",
       "1  8279441  \n",
       "2  7685864  \n",
       "3  7555219  \n",
       "4  7235691  "
      ]
     },
     "execution_count": 7,
     "metadata": {},
     "output_type": "execute_result"
    }
   ],
   "source": [
    "reviews.head()\n"
   ]
  },
  {
   "cell_type": "code",
   "execution_count": 13,
   "metadata": {},
   "outputs": [],
   "source": []
  },
  {
   "cell_type": "code",
   "execution_count": null,
   "metadata": {},
   "outputs": [],
   "source": [
    "# Load spacy model\n",
    "nlp = spacy.load('en_core_web_sm')"
   ]
  },
  {
   "cell_type": "code",
   "execution_count": 6,
   "metadata": {},
   "outputs": [],
   "source": [
    "# Find Token information for a row in a function \n",
    "def extractText(extText, tokentype):\n",
    "    extext = ''\n",
    "    # Find count of nouns, pronouns, adjectives and verbs in a review\n",
    "    for token in nlp(extText):\n",
    "        if token.pos_ == tokentype :\n",
    "            extext += token.lemma_ + ','\n",
    "    return extext"
   ]
  },
  {
   "cell_type": "code",
   "execution_count": 7,
   "metadata": {},
   "outputs": [
    {
     "data": {
      "text/plain": [
       "'staff,look,spa,therapist,office,krisna,kitchen,aswell,price,aswell,'"
      ]
     },
     "execution_count": 7,
     "metadata": {},
     "output_type": "execute_result"
    }
   ],
   "source": [
    "extractText(reviews['review_content'][0], 'NOUN')"
   ]
  },
  {
   "cell_type": "code",
   "execution_count": 110,
   "metadata": {},
   "outputs": [],
   "source": [
    "# Finding Noun, Verb, Adjective, Pronoun \n",
    "reviews['noun_text'] = [extractText(txt, 'NOUN') for txt in reviews['review_content']]\n",
    "reviews['verb_text'] = [extractText(txt, 'VERB') for txt in reviews['review_content']]\n",
    "reviews['adj_text'] = [extractText(txt, 'ADJ') for txt in reviews['review_content']]\n",
    "reviews['pron_text'] = [extractText(txt, 'PRON') for txt in reviews['review_content']]"
   ]
  },
  {
   "cell_type": "code",
   "execution_count": 112,
   "metadata": {},
   "outputs": [
    {
     "data": {
      "text/html": [
       "<div>\n",
       "<style scoped>\n",
       "    .dataframe tbody tr th:only-of-type {\n",
       "        vertical-align: middle;\n",
       "    }\n",
       "\n",
       "    .dataframe tbody tr th {\n",
       "        vertical-align: top;\n",
       "    }\n",
       "\n",
       "    .dataframe thead th {\n",
       "        text-align: right;\n",
       "    }\n",
       "</style>\n",
       "<table border=\"1\" class=\"dataframe\">\n",
       "  <thead>\n",
       "    <tr style=\"text-align: right;\">\n",
       "      <th></th>\n",
       "      <th>ID</th>\n",
       "      <th>Hotelcode</th>\n",
       "      <th>review_content</th>\n",
       "      <th>id</th>\n",
       "      <th>noun_text</th>\n",
       "      <th>verb_text</th>\n",
       "      <th>adj_text</th>\n",
       "      <th>pron_text</th>\n",
       "    </tr>\n",
       "  </thead>\n",
       "  <tbody>\n",
       "    <tr>\n",
       "      <td>0</td>\n",
       "      <td>125456</td>\n",
       "      <td>79</td>\n",
       "      <td>Really good staff and caring look after everything u need and putri spa therapist relaxing and in front office krisna he really helpfull they make us cook in their kitchen aswell we really happy to stay there really recommend very cheap price aswell</td>\n",
       "      <td>7684053</td>\n",
       "      <td>staff,look,spa,therapist,office,krisna,kitchen,aswell,price,aswell,</td>\n",
       "      <td>need,relaxing,helpfull,make,cook,stay,recommend,</td>\n",
       "      <td>good,caring,putri,front,happy,cheap,</td>\n",
       "      <td>everything,u,he,they,us,we,there,</td>\n",
       "    </tr>\n",
       "    <tr>\n",
       "      <td>1</td>\n",
       "      <td>26177</td>\n",
       "      <td>85</td>\n",
       "      <td>A simple and humble hotel, yet 1000 Miles Hotel was beyond our expectations for such a cheap price. The hotel was very clean, they provide us with a simple but nice breakfast every morning, the interior design was nice that we can take a nice picture around the 1st floor and the room, they also ...</td>\n",
       "      <td>8279441</td>\n",
       "      <td>hotel,expectations,price,hotel,breakfast,morning,design,picture,floor,room,rooftop,area,staffs,time,hotel,lot,convenience,stores,restaurants,meal,minutes,station,downside,preference,alley,hotel,night,girls,budget,hotel,</td>\n",
       "      <td>provide,can,take,can,see,surrounding,greet,helped,need,surrounded,grab,need,walk,walk,</td>\n",
       "      <td>simple,humble,cheap,clean,simple,nice,interior,nice,nice,1st,nice,friendly,shy,quick,nearest,only,personal,scary,best,</td>\n",
       "      <td>they,us,we,they,you,we,they,us,us,we,it,itself,it,us,We,it,I,</td>\n",
       "    </tr>\n",
       "    <tr>\n",
       "      <td>2</td>\n",
       "      <td>124330</td>\n",
       "      <td>85</td>\n",
       "      <td>Great location - walking distance to most places and a couple of great restaurants nearby. We stayed in a private room for five nights (extended our stay). The room was really cosy, modern and clean. The TV is a nice touch and a good shower. The internet worked well throughout. We had a couple o...</td>\n",
       "      <td>7685864</td>\n",
       "      <td>location,distance,places,couple,restaurants,room,nights,stay,room,TV,touch,shower,internet,couple,drinks,roof,terrace,night,view,evening,Staff,breakfast,touch,hostels,basics,</td>\n",
       "      <td>walking,stayed,extended,worked,</td>\n",
       "      <td>Great,most,great,private,cosy,modern,clean,nice,good,own,nice,accommodating,simple,nice,fave,</td>\n",
       "      <td>We,We,</td>\n",
       "    </tr>\n",
       "    <tr>\n",
       "      <td>3</td>\n",
       "      <td>134781</td>\n",
       "      <td>85</td>\n",
       "      <td>We spent 3 nights in this hotel. I had booked the Mini double room with windows. I didn't expect it's that small but we survived. Bed linen, towels and soap including the price and the bathroom was okay. Though water was not hot enough for me to call \"hot shower\". Our room was on the second floo...</td>\n",
       "      <td>7555219</td>\n",
       "      <td>nights,hotel,room,windows,linen,towels,soap,price,bathroom,water,shower,room,floor,Location,station,Points,staff,service,</td>\n",
       "      <td>spent,booked,expect,survived,including,call,</td>\n",
       "      <td>Mini,double,small,okay,hot,hot,second,noisy,good,friendly,helpful,</td>\n",
       "      <td>We,I,I,it,we,me,it,</td>\n",
       "    </tr>\n",
       "    <tr>\n",
       "      <td>4</td>\n",
       "      <td>246206</td>\n",
       "      <td>85</td>\n",
       "      <td>My expectations was quite high being this hostel is number one in Tripadvisor so to say we were disappointed is an understatement.The room was very small. Have a window that is not soundproof so it's like sleeping in the sidewalk. They claim to have cable tv but it only have local channels. I th...</td>\n",
       "      <td>7235691</td>\n",
       "      <td>expectations,hostel,number,understatement,room,window,sidewalk,cable,tv,channels,cable,receptionists,hotels,hostels,price,range,movie,channel)The,bed,bathroom,breakfast,toasts,butter,corn,flakes,milk,coffee,room,rate,space,space,guests,bread,toaster,area,food,use,end,start,day,lobby,spoilt,wifi,...</td>\n",
       "      <td>say,sleeping,claim,thought,ask,claimed,cable,should,learned,working,serve,included,sit,eat,will,wait,hogging,decided,eat,ruin,wo,feel,eating,seems,work,stressed,decided,cut,turned,</td>\n",
       "      <td>high,disappointed,small,soundproof,local,wrong,thankful,least,local,other,same,least,more,comfortable,adequate,simple,instant,Thankful,enough,hot,bad,short,Good,</td>\n",
       "      <td>we,it,They,it,I,something,I,they,I,they,They,it,there,You,it,we,it,you,it,It,me,we,we,</td>\n",
       "    </tr>\n",
       "  </tbody>\n",
       "</table>\n",
       "</div>"
      ],
      "text/plain": [
       "       ID  Hotelcode  \\\n",
       "0  125456         79   \n",
       "1   26177         85   \n",
       "2  124330         85   \n",
       "3  134781         85   \n",
       "4  246206         85   \n",
       "\n",
       "                                                                                                                                                                                                                                                                                                review_content  \\\n",
       "0                                                    Really good staff and caring look after everything u need and putri spa therapist relaxing and in front office krisna he really helpfull they make us cook in their kitchen aswell we really happy to stay there really recommend very cheap price aswell   \n",
       "1  A simple and humble hotel, yet 1000 Miles Hotel was beyond our expectations for such a cheap price. The hotel was very clean, they provide us with a simple but nice breakfast every morning, the interior design was nice that we can take a nice picture around the 1st floor and the room, they also ...   \n",
       "2  Great location - walking distance to most places and a couple of great restaurants nearby. We stayed in a private room for five nights (extended our stay). The room was really cosy, modern and clean. The TV is a nice touch and a good shower. The internet worked well throughout. We had a couple o...   \n",
       "3  We spent 3 nights in this hotel. I had booked the Mini double room with windows. I didn't expect it's that small but we survived. Bed linen, towels and soap including the price and the bathroom was okay. Though water was not hot enough for me to call \"hot shower\". Our room was on the second floo...   \n",
       "4  My expectations was quite high being this hostel is number one in Tripadvisor so to say we were disappointed is an understatement.The room was very small. Have a window that is not soundproof so it's like sleeping in the sidewalk. They claim to have cable tv but it only have local channels. I th...   \n",
       "\n",
       "        id  \\\n",
       "0  7684053   \n",
       "1  8279441   \n",
       "2  7685864   \n",
       "3  7555219   \n",
       "4  7235691   \n",
       "\n",
       "                                                                                                                                                                                                                                                                                                     noun_text  \\\n",
       "0                                                                                                                                                                                                                                          staff,look,spa,therapist,office,krisna,kitchen,aswell,price,aswell,   \n",
       "1                                                                                  hotel,expectations,price,hotel,breakfast,morning,design,picture,floor,room,rooftop,area,staffs,time,hotel,lot,convenience,stores,restaurants,meal,minutes,station,downside,preference,alley,hotel,night,girls,budget,hotel,   \n",
       "2                                                                                                                               location,distance,places,couple,restaurants,room,nights,stay,room,TV,touch,shower,internet,couple,drinks,roof,terrace,night,view,evening,Staff,breakfast,touch,hostels,basics,   \n",
       "3                                                                                                                                                                                    nights,hotel,room,windows,linen,towels,soap,price,bathroom,water,shower,room,floor,Location,station,Points,staff,service,   \n",
       "4  expectations,hostel,number,understatement,room,window,sidewalk,cable,tv,channels,cable,receptionists,hotels,hostels,price,range,movie,channel)The,bed,bathroom,breakfast,toasts,butter,corn,flakes,milk,coffee,room,rate,space,space,guests,bread,toaster,area,food,use,end,start,day,lobby,spoilt,wifi,...   \n",
       "\n",
       "                                                                                                                                                                              verb_text  \\\n",
       "0                                                                                                                                      need,relaxing,helpfull,make,cook,stay,recommend,   \n",
       "1                                                                                                provide,can,take,can,see,surrounding,greet,helped,need,surrounded,grab,need,walk,walk,   \n",
       "2                                                                                                                                                       walking,stayed,extended,worked,   \n",
       "3                                                                                                                                          spent,booked,expect,survived,including,call,   \n",
       "4  say,sleeping,claim,thought,ask,claimed,cable,should,learned,working,serve,included,sit,eat,will,wait,hogging,decided,eat,ruin,wo,feel,eating,seems,work,stressed,decided,cut,turned,   \n",
       "\n",
       "                                                                                                                                                            adj_text  \\\n",
       "0                                                                                                                               good,caring,putri,front,happy,cheap,   \n",
       "1                                             simple,humble,cheap,clean,simple,nice,interior,nice,nice,1st,nice,friendly,shy,quick,nearest,only,personal,scary,best,   \n",
       "2                                                                      Great,most,great,private,cosy,modern,clean,nice,good,own,nice,accommodating,simple,nice,fave,   \n",
       "3                                                                                                 Mini,double,small,okay,hot,hot,second,noisy,good,friendly,helpful,   \n",
       "4  high,disappointed,small,soundproof,local,wrong,thankful,least,local,other,same,least,more,comfortable,adequate,simple,instant,Thankful,enough,hot,bad,short,Good,   \n",
       "\n",
       "                                                                                pron_text  \n",
       "0                                                       everything,u,he,they,us,we,there,  \n",
       "1                           they,us,we,they,you,we,they,us,us,we,it,itself,it,us,We,it,I,  \n",
       "2                                                                                  We,We,  \n",
       "3                                                                     We,I,I,it,we,me,it,  \n",
       "4  we,it,They,it,I,something,I,they,I,they,They,it,there,You,it,we,it,you,it,It,me,we,we,  "
      ]
     },
     "execution_count": 112,
     "metadata": {},
     "output_type": "execute_result"
    }
   ],
   "source": [
    "reviews.head()"
   ]
  },
  {
   "cell_type": "code",
   "execution_count": 4,
   "metadata": {},
   "outputs": [],
   "source": [
    "# Sentiment Analysis for entire review content "
   ]
  },
  {
   "cell_type": "code",
   "execution_count": 30,
   "metadata": {},
   "outputs": [],
   "source": [
    "analyzer = SentimentIntensityAnalyzer()"
   ]
  },
  {
   "cell_type": "code",
   "execution_count": 9,
   "metadata": {},
   "outputs": [],
   "source": [
    "reviews['review_SentimentAnalysis'] = [str(analyzer.polarity_scores(txt)) for txt in reviews['review_content']]"
   ]
  },
  {
   "cell_type": "code",
   "execution_count": 10,
   "metadata": {},
   "outputs": [
    {
     "data": {
      "text/html": [
       "<div>\n",
       "<style scoped>\n",
       "    .dataframe tbody tr th:only-of-type {\n",
       "        vertical-align: middle;\n",
       "    }\n",
       "\n",
       "    .dataframe tbody tr th {\n",
       "        vertical-align: top;\n",
       "    }\n",
       "\n",
       "    .dataframe thead th {\n",
       "        text-align: right;\n",
       "    }\n",
       "</style>\n",
       "<table border=\"1\" class=\"dataframe\">\n",
       "  <thead>\n",
       "    <tr style=\"text-align: right;\">\n",
       "      <th></th>\n",
       "      <th>ID</th>\n",
       "      <th>Hotelcode</th>\n",
       "      <th>review_content</th>\n",
       "      <th>id</th>\n",
       "      <th>review_SentimentAnalysis</th>\n",
       "    </tr>\n",
       "  </thead>\n",
       "  <tbody>\n",
       "    <tr>\n",
       "      <td>0</td>\n",
       "      <td>125456</td>\n",
       "      <td>79</td>\n",
       "      <td>Really good staff and caring look after everything u need and putri spa therapist relaxing and in front office krisna he really helpfull they make us cook in their kitchen aswell we really happy to stay there really recommend very cheap price aswell</td>\n",
       "      <td>7684053</td>\n",
       "      <td>{'neg': 0.0, 'neu': 0.693, 'pos': 0.307, 'compound': 0.9467}</td>\n",
       "    </tr>\n",
       "    <tr>\n",
       "      <td>1</td>\n",
       "      <td>26177</td>\n",
       "      <td>85</td>\n",
       "      <td>A simple and humble hotel, yet 1000 Miles Hotel was beyond our expectations for such a cheap price. The hotel was very clean, they provide us with a simple but nice breakfast every morning, the interior design was nice that we can take a nice picture around the 1st floor and the room, they also ...</td>\n",
       "      <td>8279441</td>\n",
       "      <td>{'neg': 0.049, 'neu': 0.71, 'pos': 0.242, 'compound': 0.9916}</td>\n",
       "    </tr>\n",
       "    <tr>\n",
       "      <td>2</td>\n",
       "      <td>124330</td>\n",
       "      <td>85</td>\n",
       "      <td>Great location - walking distance to most places and a couple of great restaurants nearby. We stayed in a private room for five nights (extended our stay). The room was really cosy, modern and clean. The TV is a nice touch and a good shower. The internet worked well throughout. We had a couple o...</td>\n",
       "      <td>7685864</td>\n",
       "      <td>{'neg': 0.0, 'neu': 0.764, 'pos': 0.236, 'compound': 0.9659}</td>\n",
       "    </tr>\n",
       "    <tr>\n",
       "      <td>3</td>\n",
       "      <td>134781</td>\n",
       "      <td>85</td>\n",
       "      <td>We spent 3 nights in this hotel. I had booked the Mini double room with windows. I didn't expect it's that small but we survived. Bed linen, towels and soap including the price and the bathroom was okay. Though water was not hot enough for me to call \"hot shower\". Our room was on the second floo...</td>\n",
       "      <td>7555219</td>\n",
       "      <td>{'neg': 0.026, 'neu': 0.724, 'pos': 0.25, 'compound': 0.9729}</td>\n",
       "    </tr>\n",
       "    <tr>\n",
       "      <td>4</td>\n",
       "      <td>246206</td>\n",
       "      <td>85</td>\n",
       "      <td>My expectations was quite high being this hostel is number one in Tripadvisor so to say we were disappointed is an understatement.The room was very small. Have a window that is not soundproof so it's like sleeping in the sidewalk. They claim to have cable tv but it only have local channels. I th...</td>\n",
       "      <td>7235691</td>\n",
       "      <td>{'neg': 0.06, 'neu': 0.809, 'pos': 0.131, 'compound': 0.965}</td>\n",
       "    </tr>\n",
       "  </tbody>\n",
       "</table>\n",
       "</div>"
      ],
      "text/plain": [
       "       ID  Hotelcode  \\\n",
       "0  125456         79   \n",
       "1   26177         85   \n",
       "2  124330         85   \n",
       "3  134781         85   \n",
       "4  246206         85   \n",
       "\n",
       "                                                                                                                                                                                                                                                                                                review_content  \\\n",
       "0                                                    Really good staff and caring look after everything u need and putri spa therapist relaxing and in front office krisna he really helpfull they make us cook in their kitchen aswell we really happy to stay there really recommend very cheap price aswell   \n",
       "1  A simple and humble hotel, yet 1000 Miles Hotel was beyond our expectations for such a cheap price. The hotel was very clean, they provide us with a simple but nice breakfast every morning, the interior design was nice that we can take a nice picture around the 1st floor and the room, they also ...   \n",
       "2  Great location - walking distance to most places and a couple of great restaurants nearby. We stayed in a private room for five nights (extended our stay). The room was really cosy, modern and clean. The TV is a nice touch and a good shower. The internet worked well throughout. We had a couple o...   \n",
       "3  We spent 3 nights in this hotel. I had booked the Mini double room with windows. I didn't expect it's that small but we survived. Bed linen, towels and soap including the price and the bathroom was okay. Though water was not hot enough for me to call \"hot shower\". Our room was on the second floo...   \n",
       "4  My expectations was quite high being this hostel is number one in Tripadvisor so to say we were disappointed is an understatement.The room was very small. Have a window that is not soundproof so it's like sleeping in the sidewalk. They claim to have cable tv but it only have local channels. I th...   \n",
       "\n",
       "        id                                       review_SentimentAnalysis  \n",
       "0  7684053   {'neg': 0.0, 'neu': 0.693, 'pos': 0.307, 'compound': 0.9467}  \n",
       "1  8279441  {'neg': 0.049, 'neu': 0.71, 'pos': 0.242, 'compound': 0.9916}  \n",
       "2  7685864   {'neg': 0.0, 'neu': 0.764, 'pos': 0.236, 'compound': 0.9659}  \n",
       "3  7555219  {'neg': 0.026, 'neu': 0.724, 'pos': 0.25, 'compound': 0.9729}  \n",
       "4  7235691   {'neg': 0.06, 'neu': 0.809, 'pos': 0.131, 'compound': 0.965}  "
      ]
     },
     "execution_count": 10,
     "metadata": {},
     "output_type": "execute_result"
    }
   ],
   "source": [
    "reviews.head()"
   ]
  },
  {
   "cell_type": "code",
   "execution_count": null,
   "metadata": {},
   "outputs": [],
   "source": [
    "# To split sentences and to do sentiment analysis "
   ]
  },
  {
   "cell_type": "code",
   "execution_count": 31,
   "metadata": {},
   "outputs": [
    {
     "name": "stderr",
     "output_type": "stream",
     "text": [
      "[nltk_data] Downloading package punkt to\n",
      "[nltk_data]     C:\\Users\\RKMVERI\\AppData\\Roaming\\nltk_data...\n",
      "[nltk_data]   Package punkt is already up-to-date!\n"
     ]
    },
    {
     "data": {
      "text/plain": [
       "True"
      ]
     },
     "execution_count": 31,
     "metadata": {},
     "output_type": "execute_result"
    }
   ],
   "source": [
    "import nltk \n",
    "nltk.download('punkt')"
   ]
  },
  {
   "cell_type": "code",
   "execution_count": 32,
   "metadata": {},
   "outputs": [],
   "source": [
    "from nltk import sent_tokenize"
   ]
  },
  {
   "cell_type": "code",
   "execution_count": 8,
   "metadata": {},
   "outputs": [],
   "source": [
    "# Grammmetical check \n",
    "from gingerit.gingerit import GingerIt\n",
    "parser = GingerIt()"
   ]
  },
  {
   "cell_type": "code",
   "execution_count": 14,
   "metadata": {},
   "outputs": [],
   "source": [
    "def GetGrammaticalText(txt):\n",
    "    if len(txt) < 600 :\n",
    "        try:\n",
    "            tx = parser.parse(txt)['result']\n",
    "        except:\n",
    "            tx = txt\n",
    "    else :\n",
    "        tx = txt\n",
    "    return tx"
   ]
  },
  {
   "cell_type": "code",
   "execution_count": null,
   "metadata": {},
   "outputs": [],
   "source": [
    "reviews['review_content'] = [GetGrammaticalText(txt) for txt in reviews['review_content']]"
   ]
  },
  {
   "cell_type": "code",
   "execution_count": 33,
   "metadata": {},
   "outputs": [],
   "source": [
    "# Split text into sentence \n",
    "reviews['review_sentences'] = [sent_tokenize(txt) for txt in reviews['review_content']]"
   ]
  },
  {
   "cell_type": "code",
   "execution_count": 34,
   "metadata": {},
   "outputs": [
    {
     "data": {
      "text/plain": [
       "0                                                    [Really good staff and caring look after everything u need and putri spa therapist relaxing and in front office krisna he really helpfull they make us cook in their kitchen aswell we really happy to stay there really recommend very cheap price aswell]\n",
       "1    [A simple and humble hotel, yet 1000 Miles Hotel was beyond our expectations for such a cheap price., The hotel was very clean, they provide us with a simple but nice breakfast every morning, the interior design was nice that we can take a nice picture around the 1st floor and the room, they als...\n",
       "2    [Great location - walking distance to most places and a couple of great restaurants nearby., We stayed in a private room for five nights (extended our stay)., The room was really cosy, modern and clean., The TV is a nice touch and a good shower., The internet worked well throughout., We had a co...\n",
       "3    [We spent 3 nights in this hotel., I had booked the Mini double room with windows., I didn't expect it's that small but we survived., Bed linen, towels and soap including the price and the bathroom was okay., Though water was not hot enough for me to call \"hot shower\"., Our room was on the secon...\n",
       "4    [My expectations was quite high being this hostel is number one in Tripadvisor so to say we were disappointed is an understatement.The room was very small., Have a window that is not soundproof so it's like sleeping in the sidewalk., They claim to have cable tv but it only have local channels., ...\n",
       "Name: review_sentences, dtype: object"
      ]
     },
     "execution_count": 34,
     "metadata": {},
     "output_type": "execute_result"
    }
   ],
   "source": [
    "reviews['review_sentences'].head()"
   ]
  },
  {
   "cell_type": "code",
   "execution_count": 35,
   "metadata": {},
   "outputs": [],
   "source": [
    "def sentence_scores(txt):\n",
    "    score = []\n",
    "    for tok in txt:\n",
    "        score.append(str(analyzer.polarity_scores(str(tok))))\n",
    "    return score"
   ]
  },
  {
   "cell_type": "code",
   "execution_count": 36,
   "metadata": {},
   "outputs": [],
   "source": [
    "# Sensitive score for the sentence \n",
    "reviews['sentence_scores'] = [sentence_scores(txt) for txt in reviews['review_sentences']]"
   ]
  },
  {
   "cell_type": "code",
   "execution_count": 15,
   "metadata": {},
   "outputs": [
    {
     "data": {
      "text/plain": [
       "0                                                                                                                                                                                                                                                 [{'neg': 0.0, 'neu': 0.693, 'pos': 0.307, 'compound': 0.9467}]\n",
       "1    [{'neg': 0.0, 'neu': 1.0, 'pos': 0.0, 'compound': 0.0}, {'neg': 0.0, 'neu': 0.706, 'pos': 0.294, 'compound': 0.9523}, {'neg': 0.064, 'neu': 0.583, 'pos': 0.353, 'compound': 0.8867}, {'neg': 0.0, 'neu': 0.863, 'pos': 0.137, 'compound': 0.4902}, {'neg': 0.0, 'neu': 1.0, 'pos': 0.0, 'compound': 0.0...\n",
       "2    [{'neg': 0.0, 'neu': 0.573, 'pos': 0.427, 'compound': 0.8481}, {'neg': 0.0, 'neu': 1.0, 'pos': 0.0, 'compound': 0.0}, {'neg': 0.0, 'neu': 0.722, 'pos': 0.278, 'compound': 0.4019}, {'neg': 0.0, 'neu': 0.513, 'pos': 0.487, 'compound': 0.6908}, {'neg': 0.0, 'neu': 0.656, 'pos': 0.344, 'compound': 0...\n",
       "3    [{'neg': 0.0, 'neu': 1.0, 'pos': 0.0, 'compound': 0.0}, {'neg': 0.0, 'neu': 1.0, 'pos': 0.0, 'compound': 0.0}, {'neg': 0.0, 'neu': 0.611, 'pos': 0.389, 'compound': 0.6652}, {'neg': 0.0, 'neu': 0.863, 'pos': 0.137, 'compound': 0.2263}, {'neg': 0.0, 'neu': 1.0, 'pos': 0.0, 'compound': 0.0}, {'neg'...\n",
       "4    [{'neg': 0.109, 'neu': 0.845, 'pos': 0.046, 'compound': -0.4215}, {'neg': 0.0, 'neu': 0.812, 'pos': 0.188, 'compound': 0.4173}, {'neg': 0.0, 'neu': 1.0, 'pos': 0.0, 'compound': 0.0}, {'neg': 0.088, 'neu': 0.799, 'pos': 0.113, 'compound': 0.2177}, {'neg': 0.0, 'neu': 0.879, 'pos': 0.121, 'compoun...\n",
       "Name: sentence_scores, dtype: object"
      ]
     },
     "execution_count": 15,
     "metadata": {},
     "output_type": "execute_result"
    }
   ],
   "source": [
    "reviews['sentence_scores'].head()"
   ]
  },
  {
   "cell_type": "code",
   "execution_count": 37,
   "metadata": {},
   "outputs": [],
   "source": [
    "# define the labels need to be extracted\n",
    "possible_lables = 'accommodation,activity,adventure,alcohol,amenity,area,atmosphere,backpacker,balcony,bar,bathroom,beach,bed,book,bowl,breakfast,budget,buffet,business,cab,cable,carpet,chair,channel,checkin,chef,child,choice,city,cleanliness,coffee,conference,connection,cooking,corridor,cost,couple,craft,cuisine,curtain,customer,day,deal,decor,design,desk,dessert,dining,dinner,discount,dish,distance,door,dorm,drink,driver,driving,drop,dryer,email,entertainment,entrance,excursion,expectation,experience,family,fan,fitness,flight,floor,food,fork,fridge,fry,fun,furniture,garden,gate,girl,glass,guesthouse,gym,heater,home,honeymooner,hospitality,host,hostel,hotel,house,insect,internet,issue,juice,kid,kitchen,lake,lavatory,lawn,light,line,linen,lobby,location,locker,lodge,lover,luggage,mall,manager,massage,meal,meat,menu,mirror,mosquito,movie,music,nature,night,nightclub,noise,noisy,office,outlook,owner,painting,parking,payment,people,phone,pillow,place,plate,pool,power,price,proximity,rate,reception,receptionist,refund,region,resort,restaurant,ride,road,rooftop,room,salad,satellite,screen,seeker,service,shampoo,shopping,show,shower,shuttle,sidewalk,slipper,snack,soap,Spa,space,spoilt,Staff,stair,station,stay,store,style,suite,sunlight,surrounding,table,tap,taxi,team,terrace,tile,toilet,tour,tourist,towel,transfer,travel,traveller,trekker,trekking,trip,tub,tv,ventilation,view,visit,visitor,waiter,walk,washing,water,wifi,window,'"
   ]
  },
  {
   "cell_type": "code",
   "execution_count": 38,
   "metadata": {},
   "outputs": [],
   "source": [
    "# Find Labels, Sentence & Sensitive scores\n",
    "def extractLabelswithScores(extText, tokentype):\n",
    "    extext = {}\n",
    "    posDic = {}\n",
    "    negDic = {}\n",
    "    neuDic = {}\n",
    "    \n",
    "    # Find count of nouns, pronouns, adjectives and verbs in a review\n",
    "    for txt in extText:\n",
    "        keytxt = ''\n",
    "        score = analyzer.polarity_scores(str(txt))\n",
    "        if score['compound'] > 0:\n",
    "            valtxt = txt + '$$$ Score : ' + str(score)\n",
    "            for token in nlp(txt):\n",
    "                if token.pos_ == tokentype :\n",
    "                    if possible_lables.find(token.lemma_) >= 0:\n",
    "                        keytxt = keytxt + token.lemma_ + ','\n",
    "            posDic[keytxt] = valtxt\n",
    "        elif score['compound'] < 0:\n",
    "            valtxt = txt + '$$$ Score : ' + str(score)\n",
    "            for token in nlp(txt):\n",
    "                if token.pos_ == tokentype :\n",
    "                    if possible_lables.find(token.lemma_) >= 0:\n",
    "                        keytxt = keytxt + token.lemma_ + ','\n",
    "            negDic[keytxt] = valtxt\n",
    "        else:\n",
    "            valtxt = txt + '$$$ Score : ' + str(score)\n",
    "            for token in nlp(txt):\n",
    "                if token.pos_ == tokentype :\n",
    "                    if possible_lables.find(token.lemma_) >= 0:\n",
    "                        keytxt = keytxt + token.lemma_ + ','\n",
    "            neuDic[keytxt] = valtxt\n",
    "        \n",
    "        extext['pos'] = posDic\n",
    "        extext['neg'] = negDic\n",
    "        extext['neu'] = neuDic\n",
    "        \n",
    "    return extext"
   ]
  },
  {
   "cell_type": "code",
   "execution_count": 24,
   "metadata": {},
   "outputs": [],
   "source": []
  },
  {
   "cell_type": "code",
   "execution_count": 39,
   "metadata": {},
   "outputs": [],
   "source": [
    "reviews['label_scores'] = [extractLabelswithScores(txt, 'NOUN') for txt in reviews['review_sentences']]"
   ]
  },
  {
   "cell_type": "code",
   "execution_count": 40,
   "metadata": {},
   "outputs": [],
   "source": [
    "# To create positive, negative & neutral labels & scores\n",
    "reviews['pos_label_scores'] = [dic['pos'] for dic in reviews['label_scores']]\n",
    "reviews['neg_label_scores'] = [dic['neg'] for dic in reviews['label_scores']]\n",
    "reviews['neu_label_scores'] = [dic['neu'] for dic in reviews['label_scores']]"
   ]
  },
  {
   "cell_type": "code",
   "execution_count": 41,
   "metadata": {},
   "outputs": [],
   "source": [
    "reviews_analysis=reviews"
   ]
  },
  {
   "cell_type": "code",
   "execution_count": 42,
   "metadata": {},
   "outputs": [],
   "source": [
    "reviews_analysis.to_excel(\"Reviews_analysis_TrimmedLabels.xlsx\")"
   ]
  },
  {
   "cell_type": "code",
   "execution_count": 1,
   "metadata": {},
   "outputs": [],
   "source": []
  },
  {
   "cell_type": "code",
   "execution_count": null,
   "metadata": {},
   "outputs": [],
   "source": []
  }
 ],
 "metadata": {
  "kernelspec": {
   "display_name": "Python 3",
   "language": "python",
   "name": "python3"
  },
  "language_info": {
   "codemirror_mode": {
    "name": "ipython",
    "version": 3
   },
   "file_extension": ".py",
   "mimetype": "text/x-python",
   "name": "python",
   "nbconvert_exporter": "python",
   "pygments_lexer": "ipython3",
   "version": "3.7.3"
  }
 },
 "nbformat": 4,
 "nbformat_minor": 2
}
